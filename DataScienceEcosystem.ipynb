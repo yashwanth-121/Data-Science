{
 "cells": [
  {
   "cell_type": "markdown",
   "id": "2a54fabf",
   "metadata": {},
   "source": [
    "Data Science Tools and Ecosystem"
   ]
  },
  {
   "attachments": {},
   "cell_type": "markdown",
   "id": "98d9f01f",
   "metadata": {},
   "source": [
    "In this notebook, Data Science Tools and Ecosystem are summarized."
   ]
  },
  {
   "cell_type": "markdown",
   "id": "011af20e",
   "metadata": {},
   "source": [
    "Some of the popular languages that Data Scientists use are:\n",
    "1. Python\n",
    "2. R\n",
    "3. Julia\n",
    "4. Scala\n",
    "5. SQL"
   ]
  },
  {
   "cell_type": "markdown",
   "id": "d18bab3b",
   "metadata": {},
   "source": [
    "Some of the commonly used libraries used by Data Scientists include:\n",
    "1. NumPy\n",
    "2. Pandas\n",
    "3. Matplotlib\n",
    "4. Scikt-learn\n",
    "5. Pytorch"
   ]
  },
  {
   "cell_type": "markdown",
   "id": "ebb20d08",
   "metadata": {},
   "source": [
    "|Data Science Tools| |Tools|\n",
    "|----|\n",
    "|1||Rstudio|\n",
    "|2||Pytorch|\n",
    "|3||Keras|"
   ]
  },
  {
   "cell_type": "markdown",
   "id": "8685f591",
   "metadata": {},
   "source": []
  },
  {
   "cell_type": "markdown",
   "id": "0c17429e",
   "metadata": {},
   "source": [
    "Below are a few examples of evaluating arithmetic expressions in Python"
   ]
  },
  {
   "cell_type": "code",
   "execution_count": 4,
   "id": "933aa3e8",
   "metadata": {},
   "outputs": [
    {
     "data": {
      "text/plain": [
       "17"
      ]
     },
     "execution_count": 4,
     "metadata": {},
     "output_type": "execute_result"
    }
   ],
   "source": [
    "(3*4)+5"
   ]
  },
  {
   "cell_type": "code",
   "execution_count": 5,
   "id": "d9ceef46",
   "metadata": {},
   "outputs": [
    {
     "data": {
      "text/plain": [
       "3.3333333333333335"
      ]
     },
     "execution_count": 5,
     "metadata": {},
     "output_type": "execute_result"
    }
   ],
   "source": [
    "200/60"
   ]
  },
  {
   "cell_type": "markdown",
   "id": "8b3c4314",
   "metadata": {},
   "source": [
    "Objectives: List popular languages for Data Science\n",
    "1. Python\n",
    "2. R\n",
    "3. Tensor FLow"
   ]
  },
  {
   "cell_type": "markdown",
   "id": "e52a002f",
   "metadata": {},
   "source": [
    "Author\n",
    "Yashwanth"
   ]
  },
  {
   "cell_type": "code",
   "execution_count": null,
   "id": "9351dcfe",
   "metadata": {},
   "outputs": [],
   "source": []
  }
 ],
 "metadata": {
  "kernelspec": {
   "display_name": "Python 3 (ipykernel)",
   "language": "python",
   "name": "python3"
  },
  "language_info": {
   "codemirror_mode": {
    "name": "ipython",
    "version": 3
   },
   "file_extension": ".py",
   "mimetype": "text/x-python",
   "name": "python",
   "nbconvert_exporter": "python",
   "pygments_lexer": "ipython3",
   "version": "3.8.1"
  }
 },
 "nbformat": 4,
 "nbformat_minor": 5
}
